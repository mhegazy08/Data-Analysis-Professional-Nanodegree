{
 "cells": [
  {
   "cell_type": "markdown",
   "metadata": {},
   "source": [
    "# Project: No Show Appointments Data Analysis\n",
    "\n",
    "## Table of Contents\n",
    "<ul>\n",
    "<li><a href=\"#intro\">Introduction</a></li>\n",
    "<li><a href=\"#wrangling\">Data Wrangling</a></li>\n",
    "<li><a href=\"#eda\">Exploratory Data Analysis</a></li>\n",
    "<li><a href=\"#conclusions\">Conclusions</a></li>\n",
    "</ul>"
   ]
  },
  {
   "cell_type": "markdown",
   "metadata": {},
   "source": [
    "<a id='intro'></a>\n",
    "## Introduction\n",
    "\n",
    "### Dataset Description \n",
    "\n",
    "This dataset contains information about medical appointments in Brazil. It contains various data about 100k+ appointments and the corresponding patients. Finally, it contains a flag whether the patient showed up or not. In this analysis, our main focus will be trying to investigate what are the main factors influencing the no-show behavior of a patient. The columns of this dataset are as follows:\n",
    "\n",
    "  - **PatientId:** A column with the patient ID.  \n",
    "  - **AppointmentId:** A column with the appointment ID.  \n",
    "  - **Gender:** Male or Female written in abbreviated form \"M\" or \"F\".  \n",
    "  - **ScheduledDay:** A timestamp with the date and time of scheduling the appointment and not the date of appointment itself. \n",
    "  - **AppointmentDay:** A timestamp with the date and time of the appointment itself.  \n",
    "  - **Age:** The age of the patient.  \n",
    "  - **Neighbourhood:** The neighbourhood where the appointment takes place.  \n",
    "  - **Scholarship:**  Indicates whether or not the patient is enrolled in Brasilian welfare program.  \n",
    "  - **Hipertension:** Indicates whether the patient has Hipertension or not.  \n",
    "  - **Diabetes:** Indicates whether the patient has Daibetes or not.  \n",
    "  - **Alcoholism:** Indicates whether the patient drinks alcohol or not.  \n",
    "  - **Handcap:** Indicates whether the patient is handicapped or not and the severity of his disability.  \n",
    "  - **SMS_received:** Indicates whether 1 or more messages sent to the patient or not.  \n",
    "  - **No-show:** Indicates whether the patient actually showed up \"No\" or not\"Yes\".  \n",
    "  \n",
    "### Questions for Analysis\n",
    "Below are some questions that we will try to answer during the analysis:\n",
    "- Does the waiting time (time between scheduling and the appointment) affect the showing up? Long vs short waiting time from the day of schedule?  \n",
    "- Does receiving an SMS affects showing up to the appointment?  \n",
    "- Is there certain neighbourhoods where the patients do not show up?  \n",
    "- Does age affect showing up?  \n",
    "- Is there a more gender that is likely to show up over another?  \n",
    "- Are people with a scholarship more likely to show up?  \n",
    "- Does the appointment day (weekend/weekday) or time (early/late) affect showing up?  \n",
    "- Does being alcoholic affects showing up?  \n",
    "- Does being handicapped or the severity of disability affects showing up?  \n",
    "\n",
    "These are some sample questions, I will answer some of these questions here but not all of them."
   ]
  },
  {
   "cell_type": "code",
   "execution_count": 1,
   "metadata": {},
   "outputs": [
    {
     "name": "stdout",
     "output_type": "stream",
     "text": [
      "Collecting pandas==0.25.0\n",
      "\u001b[?25l  Downloading https://files.pythonhosted.org/packages/1d/9a/7eb9952f4b4d73fbd75ad1d5d6112f407e695957444cb695cbb3cdab918a/pandas-0.25.0-cp36-cp36m-manylinux1_x86_64.whl (10.5MB)\n",
      "\u001b[K    99% |████████████████████████████████| 10.4MB 5.3MB/s eta 0:00:011  2% |█                               | 296kB 10.6MB/s eta 0:00:01    19% |██████▏                         | 2.0MB 11.6MB/s eta 0:00:01    35% |███████████▎                    | 3.7MB 22.8MB/s eta 0:00:01    46% |███████████████                 | 4.9MB 23.8MB/s eta 0:00:01    62% |████████████████████            | 6.6MB 11.6MB/s eta 0:00:01    68% |█████████████████████▉          | 7.1MB 23.5MB/s eta 0:00:01    83% |██████████████████████████▊     | 8.7MB 10.9MB/s eta 0:00:01    88% |████████████████████████████▍   | 9.3MB 8.0MB/s eta 0:00:01    94% |██████████████████████████████▏ | 9.8MB 23.0MB/s eta 0:00:01    99% |███████████████████████████████▉| 10.4MB 8.0MB/s eta 0:00:01    100% |████████████████████████████████| 10.5MB 1.8MB/s \n",
      "\u001b[?25hRequirement already satisfied, skipping upgrade: pytz>=2017.2 in /opt/conda/lib/python3.6/site-packages (from pandas==0.25.0) (2017.3)\n",
      "Collecting numpy>=1.13.3 (from pandas==0.25.0)\n",
      "\u001b[?25l  Downloading https://files.pythonhosted.org/packages/45/b2/6c7545bb7a38754d63048c7696804a0d947328125d81bf12beaa692c3ae3/numpy-1.19.5-cp36-cp36m-manylinux1_x86_64.whl (13.4MB)\n",
      "\u001b[K    100% |████████████████████████████████| 13.4MB 716kB/s ta 0:00:011  2% |▊                               | 286kB 10.0MB/s eta 0:00:02    5% |█▉                              | 788kB 11.8MB/s eta 0:00:02    13% |████▍                           | 1.8MB 11.5MB/s eta 0:00:02    17% |█████▌                          | 2.3MB 11.1MB/s eta 0:00:01    24% |████████                        | 3.3MB 10.0MB/s eta 0:00:02    28% |█████████▏                      | 3.8MB 10.9MB/s eta 0:00:01    36% |███████████▌                    | 4.8MB 11.9MB/s eta 0:00:01    38% |████████████▏                   | 5.1MB 5.4MB/s eta 0:00:02    48% |███████████████▋                | 6.5MB 10.4MB/s eta 0:00:01    52% |████████████████▊               | 7.0MB 9.0MB/s eta 0:00:01    55% |█████████████████▊              | 7.4MB 7.7MB/s eta 0:00:01    58% |██████████████████▉             | 7.9MB 11.4MB/s eta 0:00:01    62% |████████████████████            | 8.3MB 11.7MB/s eta 0:00:01    65% |█████████████████████           | 8.8MB 9.3MB/s eta 0:00:01    73% |███████████████████████▋        | 9.9MB 7.3MB/s eta 0:00:01    77% |████████████████████████▋       | 10.3MB 10.1MB/s eta 0:00:01    84% |███████████████████████████     | 11.3MB 10.8MB/s eta 0:00:01    92% |█████████████████████████████▌  | 12.3MB 7.1MB/s eta 0:00:01\n",
      "\u001b[?25hRequirement already satisfied, skipping upgrade: python-dateutil>=2.6.1 in /opt/conda/lib/python3.6/site-packages (from pandas==0.25.0) (2.6.1)\n",
      "Requirement already satisfied, skipping upgrade: six>=1.5 in /opt/conda/lib/python3.6/site-packages (from python-dateutil>=2.6.1->pandas==0.25.0) (1.11.0)\n",
      "\u001b[31mtensorflow 1.3.0 requires tensorflow-tensorboard<0.2.0,>=0.1.0, which is not installed.\u001b[0m\n",
      "Installing collected packages: numpy, pandas\n",
      "  Found existing installation: numpy 1.12.1\n",
      "    Uninstalling numpy-1.12.1:\n",
      "      Successfully uninstalled numpy-1.12.1\n",
      "  Found existing installation: pandas 0.23.3\n",
      "    Uninstalling pandas-0.23.3:\n",
      "      Successfully uninstalled pandas-0.23.3\n",
      "Successfully installed numpy-1.19.5 pandas-0.25.0\n"
     ]
    }
   ],
   "source": [
    "# Upgrade pandas to use dataframe.explode() function. \n",
    "!pip install --upgrade pandas==0.25.0"
   ]
  },
  {
   "cell_type": "code",
   "execution_count": 2,
   "metadata": {},
   "outputs": [],
   "source": [
    "# importing the relevant modules and libraries to this analysis.\n",
    "import numpy as np\n",
    "import pandas as pd\n",
    "import matplotlib.pyplot as plt\n",
    "import seaborn as sns\n",
    "% matplotlib inline"
   ]
  },
  {
   "cell_type": "markdown",
   "metadata": {},
   "source": [
    "<a id='wrangling'></a>\n",
    "## Data Wrangling\n",
    "\n",
    "> In this section, I will load the data, check for cleanliness, and then trim and clean it for analysis. The check for cleanliness and the cleaning itself will be done simultaneously."
   ]
  },
  {
   "cell_type": "code",
   "execution_count": 3,
   "metadata": {},
   "outputs": [],
   "source": [
    "# loading data\n",
    "df = pd.read_csv('noshowappointments-kagglev2-may-2016.csv')"
   ]
  },
  {
   "cell_type": "code",
   "execution_count": 4,
   "metadata": {},
   "outputs": [
    {
     "data": {
      "text/html": [
       "<div>\n",
       "<style scoped>\n",
       "    .dataframe tbody tr th:only-of-type {\n",
       "        vertical-align: middle;\n",
       "    }\n",
       "\n",
       "    .dataframe tbody tr th {\n",
       "        vertical-align: top;\n",
       "    }\n",
       "\n",
       "    .dataframe thead th {\n",
       "        text-align: right;\n",
       "    }\n",
       "</style>\n",
       "<table border=\"1\" class=\"dataframe\">\n",
       "  <thead>\n",
       "    <tr style=\"text-align: right;\">\n",
       "      <th></th>\n",
       "      <th>PatientId</th>\n",
       "      <th>AppointmentID</th>\n",
       "      <th>Gender</th>\n",
       "      <th>ScheduledDay</th>\n",
       "      <th>AppointmentDay</th>\n",
       "      <th>Age</th>\n",
       "      <th>Neighbourhood</th>\n",
       "      <th>Scholarship</th>\n",
       "      <th>Hipertension</th>\n",
       "      <th>Diabetes</th>\n",
       "      <th>Alcoholism</th>\n",
       "      <th>Handcap</th>\n",
       "      <th>SMS_received</th>\n",
       "      <th>No-show</th>\n",
       "    </tr>\n",
       "  </thead>\n",
       "  <tbody>\n",
       "    <tr>\n",
       "      <th>0</th>\n",
       "      <td>2.987250e+13</td>\n",
       "      <td>5642903</td>\n",
       "      <td>F</td>\n",
       "      <td>2016-04-29T18:38:08Z</td>\n",
       "      <td>2016-04-29T00:00:00Z</td>\n",
       "      <td>62</td>\n",
       "      <td>JARDIM DA PENHA</td>\n",
       "      <td>0</td>\n",
       "      <td>1</td>\n",
       "      <td>0</td>\n",
       "      <td>0</td>\n",
       "      <td>0</td>\n",
       "      <td>0</td>\n",
       "      <td>No</td>\n",
       "    </tr>\n",
       "    <tr>\n",
       "      <th>1</th>\n",
       "      <td>5.589978e+14</td>\n",
       "      <td>5642503</td>\n",
       "      <td>M</td>\n",
       "      <td>2016-04-29T16:08:27Z</td>\n",
       "      <td>2016-04-29T00:00:00Z</td>\n",
       "      <td>56</td>\n",
       "      <td>JARDIM DA PENHA</td>\n",
       "      <td>0</td>\n",
       "      <td>0</td>\n",
       "      <td>0</td>\n",
       "      <td>0</td>\n",
       "      <td>0</td>\n",
       "      <td>0</td>\n",
       "      <td>No</td>\n",
       "    </tr>\n",
       "    <tr>\n",
       "      <th>2</th>\n",
       "      <td>4.262962e+12</td>\n",
       "      <td>5642549</td>\n",
       "      <td>F</td>\n",
       "      <td>2016-04-29T16:19:04Z</td>\n",
       "      <td>2016-04-29T00:00:00Z</td>\n",
       "      <td>62</td>\n",
       "      <td>MATA DA PRAIA</td>\n",
       "      <td>0</td>\n",
       "      <td>0</td>\n",
       "      <td>0</td>\n",
       "      <td>0</td>\n",
       "      <td>0</td>\n",
       "      <td>0</td>\n",
       "      <td>No</td>\n",
       "    </tr>\n",
       "  </tbody>\n",
       "</table>\n",
       "</div>"
      ],
      "text/plain": [
       "      PatientId  AppointmentID Gender          ScheduledDay  \\\n",
       "0  2.987250e+13        5642903      F  2016-04-29T18:38:08Z   \n",
       "1  5.589978e+14        5642503      M  2016-04-29T16:08:27Z   \n",
       "2  4.262962e+12        5642549      F  2016-04-29T16:19:04Z   \n",
       "\n",
       "         AppointmentDay  Age    Neighbourhood  Scholarship  Hipertension  \\\n",
       "0  2016-04-29T00:00:00Z   62  JARDIM DA PENHA            0             1   \n",
       "1  2016-04-29T00:00:00Z   56  JARDIM DA PENHA            0             0   \n",
       "2  2016-04-29T00:00:00Z   62    MATA DA PRAIA            0             0   \n",
       "\n",
       "   Diabetes  Alcoholism  Handcap  SMS_received No-show  \n",
       "0         0           0        0             0      No  \n",
       "1         0           0        0             0      No  \n",
       "2         0           0        0             0      No  "
      ]
     },
     "execution_count": 4,
     "metadata": {},
     "output_type": "execute_result"
    }
   ],
   "source": [
    "# exploring data\n",
    "df.head(3)"
   ]
  },
  {
   "cell_type": "code",
   "execution_count": 5,
   "metadata": {},
   "outputs": [
    {
     "data": {
      "text/plain": [
       "(110527, 14)"
      ]
     },
     "execution_count": 5,
     "metadata": {},
     "output_type": "execute_result"
    }
   ],
   "source": [
    "# checking the dimensions of the dataframe\n",
    "df.shape"
   ]
  },
  {
   "cell_type": "markdown",
   "metadata": {},
   "source": [
    ">- The dataframe contains 110527 entry, one for each appointment and 14 columns as expected.\n",
    "- First impression is that some column titles are not correct such as \"Handcap\" which should be \"Handicap\", also \"Hipertension\" needs to be \"Hypertension\".  \n",
    "- The titles also need some adjustments to make it easier when handling them. The suggested approach is to let the titles in lowercase for simplicity and separated by underscore where applicable."
   ]
  },
  {
   "cell_type": "markdown",
   "metadata": {},
   "source": [
    "I will start the cleaning of the data in order to make it easier for the exploaration phase. I will start with adjusting column titles."
   ]
  },
  {
   "cell_type": "code",
   "execution_count": 6,
   "metadata": {},
   "outputs": [],
   "source": [
    "# adjusting some column titles spelling wise\n",
    "df.rename(columns = {'Hipertension': 'Hypertension', 'Handcap': 'Handicap'}, inplace = True)"
   ]
  },
  {
   "cell_type": "code",
   "execution_count": 7,
   "metadata": {},
   "outputs": [],
   "source": [
    "# adjusting the columns titles to lowercase and \"-\" to \"_\" in the \"No-show\" column\n",
    "df.rename(columns=lambda x: x.strip().lower().replace(\"-\", \"_\"), inplace=True)"
   ]
  },
  {
   "cell_type": "code",
   "execution_count": 8,
   "metadata": {},
   "outputs": [
    {
     "data": {
      "text/html": [
       "<div>\n",
       "<style scoped>\n",
       "    .dataframe tbody tr th:only-of-type {\n",
       "        vertical-align: middle;\n",
       "    }\n",
       "\n",
       "    .dataframe tbody tr th {\n",
       "        vertical-align: top;\n",
       "    }\n",
       "\n",
       "    .dataframe thead th {\n",
       "        text-align: right;\n",
       "    }\n",
       "</style>\n",
       "<table border=\"1\" class=\"dataframe\">\n",
       "  <thead>\n",
       "    <tr style=\"text-align: right;\">\n",
       "      <th></th>\n",
       "      <th>patientid</th>\n",
       "      <th>appointmentid</th>\n",
       "      <th>gender</th>\n",
       "      <th>scheduledday</th>\n",
       "      <th>appointmentday</th>\n",
       "      <th>age</th>\n",
       "      <th>neighbourhood</th>\n",
       "      <th>scholarship</th>\n",
       "      <th>hypertension</th>\n",
       "      <th>diabetes</th>\n",
       "      <th>alcoholism</th>\n",
       "      <th>handicap</th>\n",
       "      <th>sms_received</th>\n",
       "      <th>no_show</th>\n",
       "    </tr>\n",
       "  </thead>\n",
       "  <tbody>\n",
       "    <tr>\n",
       "      <th>0</th>\n",
       "      <td>2.987250e+13</td>\n",
       "      <td>5642903</td>\n",
       "      <td>F</td>\n",
       "      <td>2016-04-29T18:38:08Z</td>\n",
       "      <td>2016-04-29T00:00:00Z</td>\n",
       "      <td>62</td>\n",
       "      <td>JARDIM DA PENHA</td>\n",
       "      <td>0</td>\n",
       "      <td>1</td>\n",
       "      <td>0</td>\n",
       "      <td>0</td>\n",
       "      <td>0</td>\n",
       "      <td>0</td>\n",
       "      <td>No</td>\n",
       "    </tr>\n",
       "  </tbody>\n",
       "</table>\n",
       "</div>"
      ],
      "text/plain": [
       "      patientid  appointmentid gender          scheduledday  \\\n",
       "0  2.987250e+13        5642903      F  2016-04-29T18:38:08Z   \n",
       "\n",
       "         appointmentday  age    neighbourhood  scholarship  hypertension  \\\n",
       "0  2016-04-29T00:00:00Z   62  JARDIM DA PENHA            0             1   \n",
       "\n",
       "   diabetes  alcoholism  handicap  sms_received no_show  \n",
       "0         0           0         0             0      No  "
      ]
     },
     "execution_count": 8,
     "metadata": {},
     "output_type": "execute_result"
    }
   ],
   "source": [
    "# verifying the update\n",
    "df.head(1)"
   ]
  },
  {
   "cell_type": "code",
   "execution_count": 9,
   "metadata": {},
   "outputs": [],
   "source": [
    "# adding an underscore \"_\" for column titles with two words\n",
    "df.rename(columns = {'patientid': 'patient_id', 'appointmentid': 'appointment_id', 'scheduledday': 'scheduled_day', 'appointmentday': 'appointment_day'}, inplace = True)"
   ]
  },
  {
   "cell_type": "code",
   "execution_count": 10,
   "metadata": {},
   "outputs": [
    {
     "data": {
      "text/html": [
       "<div>\n",
       "<style scoped>\n",
       "    .dataframe tbody tr th:only-of-type {\n",
       "        vertical-align: middle;\n",
       "    }\n",
       "\n",
       "    .dataframe tbody tr th {\n",
       "        vertical-align: top;\n",
       "    }\n",
       "\n",
       "    .dataframe thead th {\n",
       "        text-align: right;\n",
       "    }\n",
       "</style>\n",
       "<table border=\"1\" class=\"dataframe\">\n",
       "  <thead>\n",
       "    <tr style=\"text-align: right;\">\n",
       "      <th></th>\n",
       "      <th>patient_id</th>\n",
       "      <th>appointment_id</th>\n",
       "      <th>gender</th>\n",
       "      <th>scheduled_day</th>\n",
       "      <th>appointment_day</th>\n",
       "      <th>age</th>\n",
       "      <th>neighbourhood</th>\n",
       "      <th>scholarship</th>\n",
       "      <th>hypertension</th>\n",
       "      <th>diabetes</th>\n",
       "      <th>alcoholism</th>\n",
       "      <th>handicap</th>\n",
       "      <th>sms_received</th>\n",
       "      <th>no_show</th>\n",
       "    </tr>\n",
       "  </thead>\n",
       "  <tbody>\n",
       "    <tr>\n",
       "      <th>0</th>\n",
       "      <td>2.987250e+13</td>\n",
       "      <td>5642903</td>\n",
       "      <td>F</td>\n",
       "      <td>2016-04-29T18:38:08Z</td>\n",
       "      <td>2016-04-29T00:00:00Z</td>\n",
       "      <td>62</td>\n",
       "      <td>JARDIM DA PENHA</td>\n",
       "      <td>0</td>\n",
       "      <td>1</td>\n",
       "      <td>0</td>\n",
       "      <td>0</td>\n",
       "      <td>0</td>\n",
       "      <td>0</td>\n",
       "      <td>No</td>\n",
       "    </tr>\n",
       "  </tbody>\n",
       "</table>\n",
       "</div>"
      ],
      "text/plain": [
       "     patient_id  appointment_id gender         scheduled_day  \\\n",
       "0  2.987250e+13         5642903      F  2016-04-29T18:38:08Z   \n",
       "\n",
       "        appointment_day  age    neighbourhood  scholarship  hypertension  \\\n",
       "0  2016-04-29T00:00:00Z   62  JARDIM DA PENHA            0             1   \n",
       "\n",
       "   diabetes  alcoholism  handicap  sms_received no_show  \n",
       "0         0           0         0             0      No  "
      ]
     },
     "execution_count": 10,
     "metadata": {},
     "output_type": "execute_result"
    }
   ],
   "source": [
    "# verifying the update\n",
    "df.head(1)"
   ]
  },
  {
   "cell_type": "markdown",
   "metadata": {},
   "source": [
    ">All the edits needed for column titles are done."
   ]
  },
  {
   "cell_type": "markdown",
   "metadata": {},
   "source": [
    "I will then check if there are any missing values in the dataset."
   ]
  },
  {
   "cell_type": "code",
   "execution_count": 11,
   "metadata": {},
   "outputs": [
    {
     "data": {
      "text/plain": [
       "patient_id         0\n",
       "appointment_id     0\n",
       "gender             0\n",
       "scheduled_day      0\n",
       "appointment_day    0\n",
       "age                0\n",
       "neighbourhood      0\n",
       "scholarship        0\n",
       "hypertension       0\n",
       "diabetes           0\n",
       "alcoholism         0\n",
       "handicap           0\n",
       "sms_received       0\n",
       "no_show            0\n",
       "dtype: int64"
      ]
     },
     "execution_count": 11,
     "metadata": {},
     "output_type": "execute_result"
    }
   ],
   "source": [
    "# checking for null values\n",
    "df.isnull().sum()"
   ]
  },
  {
   "cell_type": "markdown",
   "metadata": {},
   "source": [
    ">No null/missing values were found."
   ]
  },
  {
   "cell_type": "markdown",
   "metadata": {},
   "source": [
    "Next, I will perform some analysis and cleaning for the types of each column to help me better perform the visualisation part."
   ]
  },
  {
   "cell_type": "code",
   "execution_count": 12,
   "metadata": {},
   "outputs": [
    {
     "data": {
      "text/plain": [
       "patient_id         float64\n",
       "appointment_id       int64\n",
       "gender              object\n",
       "scheduled_day       object\n",
       "appointment_day     object\n",
       "age                  int64\n",
       "neighbourhood       object\n",
       "scholarship          int64\n",
       "hypertension         int64\n",
       "diabetes             int64\n",
       "alcoholism           int64\n",
       "handicap             int64\n",
       "sms_received         int64\n",
       "no_show             object\n",
       "dtype: object"
      ]
     },
     "execution_count": 12,
     "metadata": {},
     "output_type": "execute_result"
    }
   ],
   "source": [
    "#checking the types of data in each column\n",
    "df.dtypes"
   ]
  },
  {
   "cell_type": "markdown",
   "metadata": {},
   "source": [
    ">- \"patient_id\" and \"appointment_id\" are float and integer respectively but we will convert them to string because we won't perform any arithmetic operation on them.  \n",
    "- \"scheduled_day\" and \"appointment_day\" are \"strings\" or \"object\"and they need to be \"Datetime\".  \n",
    "- It's better to convert No-show column type to integer to make it consistent with the remaining columns indicating \"yes\" or \"no\"."
   ]
  },
  {
   "cell_type": "code",
   "execution_count": 13,
   "metadata": {},
   "outputs": [],
   "source": [
    "# converting \"patient_id\" and \"appointment_id\" to string.\n",
    "df[['patient_id', 'appointment_id']] = df[['patient_id', 'appointment_id']].astype(str)"
   ]
  },
  {
   "cell_type": "code",
   "execution_count": 14,
   "metadata": {},
   "outputs": [
    {
     "data": {
      "text/plain": [
       "patient_id        object\n",
       "appointment_id    object\n",
       "dtype: object"
      ]
     },
     "execution_count": 14,
     "metadata": {},
     "output_type": "execute_result"
    }
   ],
   "source": [
    "# verifying the update\n",
    "df[['patient_id', 'appointment_id']].dtypes"
   ]
  },
  {
   "cell_type": "markdown",
   "metadata": {},
   "source": [
    "For simplicity, we will trim the hours, minutes, and seconds from \"appointment_day\" and \"shceduled_day\"."
   ]
  },
  {
   "cell_type": "code",
   "execution_count": 15,
   "metadata": {},
   "outputs": [],
   "source": [
    "# removing hours, minutes, and seconds\n",
    "for c in [\"appointment_day\", \"scheduled_day\"]:\n",
    "    df[c] = df[c].apply(lambda x: x.split(\"T\")[0])"
   ]
  },
  {
   "cell_type": "code",
   "execution_count": 16,
   "metadata": {},
   "outputs": [],
   "source": [
    "# converting \"scheduled_day\" and \"appointment_day\" to datetime\n",
    "for c in ['appointment_day', 'scheduled_day']:\n",
    "    df[c] = pd.to_datetime(df[c])"
   ]
  },
  {
   "cell_type": "code",
   "execution_count": 17,
   "metadata": {},
   "outputs": [
    {
     "data": {
      "text/plain": [
       "scheduled_day      datetime64[ns]\n",
       "appointment_day    datetime64[ns]\n",
       "dtype: object"
      ]
     },
     "execution_count": 17,
     "metadata": {},
     "output_type": "execute_result"
    }
   ],
   "source": [
    "# verifying the update\n",
    "df[['scheduled_day', 'appointment_day']].dtypes"
   ]
  },
  {
   "cell_type": "markdown",
   "metadata": {},
   "source": [
    ">Before converting the \"no_show\" column type to integer, to avoid confusion, I will change its name to \"show\" and change the values inside to:\n",
    "- No = 1 indicating that the patient showed up\n",
    "- Yes = 0 indicating that the patient didn't show up"
   ]
  },
  {
   "cell_type": "code",
   "execution_count": 18,
   "metadata": {},
   "outputs": [],
   "source": [
    "# changing the \"no_show\" title to \"show\"\n",
    "df.rename(columns = {'no_show': 'show'}, inplace = True)"
   ]
  },
  {
   "cell_type": "code",
   "execution_count": 19,
   "metadata": {},
   "outputs": [],
   "source": [
    "# changing \"No\" to 1 and \"Yes\" to 0\n",
    "df['show'].replace({'No' : '1', 'Yes' : '0'}, inplace = True)"
   ]
  },
  {
   "cell_type": "code",
   "execution_count": 20,
   "metadata": {},
   "outputs": [],
   "source": [
    "# converting the column type to integer\n",
    "df['show'] = df['show'].astype(int)"
   ]
  },
  {
   "cell_type": "code",
   "execution_count": 21,
   "metadata": {},
   "outputs": [
    {
     "data": {
      "text/plain": [
       "patient_id                 object\n",
       "appointment_id             object\n",
       "gender                     object\n",
       "scheduled_day      datetime64[ns]\n",
       "appointment_day    datetime64[ns]\n",
       "age                         int64\n",
       "neighbourhood              object\n",
       "scholarship                 int64\n",
       "hypertension                int64\n",
       "diabetes                    int64\n",
       "alcoholism                  int64\n",
       "handicap                    int64\n",
       "sms_received                int64\n",
       "show                        int64\n",
       "dtype: object"
      ]
     },
     "execution_count": 21,
     "metadata": {},
     "output_type": "execute_result"
    }
   ],
   "source": [
    "# checking the types once again to make sure everything is correct\n",
    "df.dtypes"
   ]
  },
  {
   "cell_type": "markdown",
   "metadata": {},
   "source": [
    "All types modifications and cleaning were done. Next, we will check for any dplicate rows in our dataset."
   ]
  },
  {
   "cell_type": "code",
   "execution_count": 22,
   "metadata": {},
   "outputs": [
    {
     "data": {
      "text/plain": [
       "0"
      ]
     },
     "execution_count": 22,
     "metadata": {},
     "output_type": "execute_result"
    }
   ],
   "source": [
    "# checking for duplicate rows\n",
    "df.duplicated().sum()"
   ]
  },
  {
   "cell_type": "markdown",
   "metadata": {},
   "source": [
    ">No duplicate rows were found."
   ]
  },
  {
   "cell_type": "code",
   "execution_count": 23,
   "metadata": {},
   "outputs": [
    {
     "data": {
      "text/plain": [
       "patient_id          62299\n",
       "appointment_id     110527\n",
       "gender                  2\n",
       "scheduled_day         111\n",
       "appointment_day        27\n",
       "age                   104\n",
       "neighbourhood          81\n",
       "scholarship             2\n",
       "hypertension            2\n",
       "diabetes                2\n",
       "alcoholism              2\n",
       "handicap                5\n",
       "sms_received            2\n",
       "show                    2\n",
       "dtype: int64"
      ]
     },
     "execution_count": 23,
     "metadata": {},
     "output_type": "execute_result"
    }
   ],
   "source": [
    "#checking unique values\n",
    "df.nunique()"
   ]
  },
  {
   "cell_type": "markdown",
   "metadata": {},
   "source": [
    ">We have lower unique number of patients compared to the whole dataset which means there are duplicates in the patient ID, however, this is normal because a patient can go to the hospital more than once in different days. \n",
    "\n",
    ">We have the same unique number of appointments as the whole dataset, which mean that we can drop this column as it won't affect the analysis. Just to make sure that this is ok, checking the duplicates in this column."
   ]
  },
  {
   "cell_type": "code",
   "execution_count": 24,
   "metadata": {},
   "outputs": [
    {
     "data": {
      "text/plain": [
       "0"
      ]
     },
     "execution_count": 24,
     "metadata": {},
     "output_type": "execute_result"
    }
   ],
   "source": [
    "#Checking duplicates in the appointment ID column\n",
    "df.duplicated('appointment_id').sum()"
   ]
  },
  {
   "cell_type": "markdown",
   "metadata": {},
   "source": [
    ">No duplicates were found, hence, we can drop this column."
   ]
  },
  {
   "cell_type": "markdown",
   "metadata": {},
   "source": [
    "Deleting the appointment id column as it won't affect the data analysis process."
   ]
  },
  {
   "cell_type": "code",
   "execution_count": 25,
   "metadata": {},
   "outputs": [],
   "source": [
    "#droping the \"appointment_id\" column\n",
    "df.drop('appointment_id', axis = 1, inplace = True)"
   ]
  },
  {
   "cell_type": "code",
   "execution_count": 26,
   "metadata": {},
   "outputs": [
    {
     "data": {
      "text/html": [
       "<div>\n",
       "<style scoped>\n",
       "    .dataframe tbody tr th:only-of-type {\n",
       "        vertical-align: middle;\n",
       "    }\n",
       "\n",
       "    .dataframe tbody tr th {\n",
       "        vertical-align: top;\n",
       "    }\n",
       "\n",
       "    .dataframe thead th {\n",
       "        text-align: right;\n",
       "    }\n",
       "</style>\n",
       "<table border=\"1\" class=\"dataframe\">\n",
       "  <thead>\n",
       "    <tr style=\"text-align: right;\">\n",
       "      <th></th>\n",
       "      <th>patient_id</th>\n",
       "      <th>gender</th>\n",
       "      <th>scheduled_day</th>\n",
       "      <th>appointment_day</th>\n",
       "      <th>age</th>\n",
       "      <th>neighbourhood</th>\n",
       "      <th>scholarship</th>\n",
       "      <th>hypertension</th>\n",
       "      <th>diabetes</th>\n",
       "      <th>alcoholism</th>\n",
       "      <th>handicap</th>\n",
       "      <th>sms_received</th>\n",
       "      <th>show</th>\n",
       "    </tr>\n",
       "  </thead>\n",
       "  <tbody>\n",
       "    <tr>\n",
       "      <th>0</th>\n",
       "      <td>29872499824296.0</td>\n",
       "      <td>F</td>\n",
       "      <td>2016-04-29</td>\n",
       "      <td>2016-04-29</td>\n",
       "      <td>62</td>\n",
       "      <td>JARDIM DA PENHA</td>\n",
       "      <td>0</td>\n",
       "      <td>1</td>\n",
       "      <td>0</td>\n",
       "      <td>0</td>\n",
       "      <td>0</td>\n",
       "      <td>0</td>\n",
       "      <td>1</td>\n",
       "    </tr>\n",
       "  </tbody>\n",
       "</table>\n",
       "</div>"
      ],
      "text/plain": [
       "         patient_id gender scheduled_day appointment_day  age  \\\n",
       "0  29872499824296.0      F    2016-04-29      2016-04-29   62   \n",
       "\n",
       "     neighbourhood  scholarship  hypertension  diabetes  alcoholism  handicap  \\\n",
       "0  JARDIM DA PENHA            0             1         0           0         0   \n",
       "\n",
       "   sms_received  show  \n",
       "0             0     1  "
      ]
     },
     "execution_count": 26,
     "metadata": {},
     "output_type": "execute_result"
    }
   ],
   "source": [
    "# verifying the update\n",
    "df.head(1)"
   ]
  },
  {
   "cell_type": "markdown",
   "metadata": {},
   "source": [
    "Exploring the data from a statistical approach."
   ]
  },
  {
   "cell_type": "code",
   "execution_count": 27,
   "metadata": {},
   "outputs": [
    {
     "data": {
      "text/html": [
       "<div>\n",
       "<style scoped>\n",
       "    .dataframe tbody tr th:only-of-type {\n",
       "        vertical-align: middle;\n",
       "    }\n",
       "\n",
       "    .dataframe tbody tr th {\n",
       "        vertical-align: top;\n",
       "    }\n",
       "\n",
       "    .dataframe thead th {\n",
       "        text-align: right;\n",
       "    }\n",
       "</style>\n",
       "<table border=\"1\" class=\"dataframe\">\n",
       "  <thead>\n",
       "    <tr style=\"text-align: right;\">\n",
       "      <th></th>\n",
       "      <th>age</th>\n",
       "      <th>scholarship</th>\n",
       "      <th>hypertension</th>\n",
       "      <th>diabetes</th>\n",
       "      <th>alcoholism</th>\n",
       "      <th>handicap</th>\n",
       "      <th>sms_received</th>\n",
       "      <th>show</th>\n",
       "    </tr>\n",
       "  </thead>\n",
       "  <tbody>\n",
       "    <tr>\n",
       "      <th>count</th>\n",
       "      <td>110527.000000</td>\n",
       "      <td>110527.000000</td>\n",
       "      <td>110527.000000</td>\n",
       "      <td>110527.000000</td>\n",
       "      <td>110527.000000</td>\n",
       "      <td>110527.000000</td>\n",
       "      <td>110527.000000</td>\n",
       "      <td>110527.000000</td>\n",
       "    </tr>\n",
       "    <tr>\n",
       "      <th>mean</th>\n",
       "      <td>37.088874</td>\n",
       "      <td>0.098266</td>\n",
       "      <td>0.197246</td>\n",
       "      <td>0.071865</td>\n",
       "      <td>0.030400</td>\n",
       "      <td>0.022248</td>\n",
       "      <td>0.321026</td>\n",
       "      <td>0.798067</td>\n",
       "    </tr>\n",
       "    <tr>\n",
       "      <th>std</th>\n",
       "      <td>23.110205</td>\n",
       "      <td>0.297675</td>\n",
       "      <td>0.397921</td>\n",
       "      <td>0.258265</td>\n",
       "      <td>0.171686</td>\n",
       "      <td>0.161543</td>\n",
       "      <td>0.466873</td>\n",
       "      <td>0.401444</td>\n",
       "    </tr>\n",
       "    <tr>\n",
       "      <th>min</th>\n",
       "      <td>-1.000000</td>\n",
       "      <td>0.000000</td>\n",
       "      <td>0.000000</td>\n",
       "      <td>0.000000</td>\n",
       "      <td>0.000000</td>\n",
       "      <td>0.000000</td>\n",
       "      <td>0.000000</td>\n",
       "      <td>0.000000</td>\n",
       "    </tr>\n",
       "    <tr>\n",
       "      <th>25%</th>\n",
       "      <td>18.000000</td>\n",
       "      <td>0.000000</td>\n",
       "      <td>0.000000</td>\n",
       "      <td>0.000000</td>\n",
       "      <td>0.000000</td>\n",
       "      <td>0.000000</td>\n",
       "      <td>0.000000</td>\n",
       "      <td>1.000000</td>\n",
       "    </tr>\n",
       "    <tr>\n",
       "      <th>50%</th>\n",
       "      <td>37.000000</td>\n",
       "      <td>0.000000</td>\n",
       "      <td>0.000000</td>\n",
       "      <td>0.000000</td>\n",
       "      <td>0.000000</td>\n",
       "      <td>0.000000</td>\n",
       "      <td>0.000000</td>\n",
       "      <td>1.000000</td>\n",
       "    </tr>\n",
       "    <tr>\n",
       "      <th>75%</th>\n",
       "      <td>55.000000</td>\n",
       "      <td>0.000000</td>\n",
       "      <td>0.000000</td>\n",
       "      <td>0.000000</td>\n",
       "      <td>0.000000</td>\n",
       "      <td>0.000000</td>\n",
       "      <td>1.000000</td>\n",
       "      <td>1.000000</td>\n",
       "    </tr>\n",
       "    <tr>\n",
       "      <th>max</th>\n",
       "      <td>115.000000</td>\n",
       "      <td>1.000000</td>\n",
       "      <td>1.000000</td>\n",
       "      <td>1.000000</td>\n",
       "      <td>1.000000</td>\n",
       "      <td>4.000000</td>\n",
       "      <td>1.000000</td>\n",
       "      <td>1.000000</td>\n",
       "    </tr>\n",
       "  </tbody>\n",
       "</table>\n",
       "</div>"
      ],
      "text/plain": [
       "                 age    scholarship   hypertension       diabetes  \\\n",
       "count  110527.000000  110527.000000  110527.000000  110527.000000   \n",
       "mean       37.088874       0.098266       0.197246       0.071865   \n",
       "std        23.110205       0.297675       0.397921       0.258265   \n",
       "min        -1.000000       0.000000       0.000000       0.000000   \n",
       "25%        18.000000       0.000000       0.000000       0.000000   \n",
       "50%        37.000000       0.000000       0.000000       0.000000   \n",
       "75%        55.000000       0.000000       0.000000       0.000000   \n",
       "max       115.000000       1.000000       1.000000       1.000000   \n",
       "\n",
       "          alcoholism       handicap   sms_received           show  \n",
       "count  110527.000000  110527.000000  110527.000000  110527.000000  \n",
       "mean        0.030400       0.022248       0.321026       0.798067  \n",
       "std         0.171686       0.161543       0.466873       0.401444  \n",
       "min         0.000000       0.000000       0.000000       0.000000  \n",
       "25%         0.000000       0.000000       0.000000       1.000000  \n",
       "50%         0.000000       0.000000       0.000000       1.000000  \n",
       "75%         0.000000       0.000000       1.000000       1.000000  \n",
       "max         1.000000       4.000000       1.000000       1.000000  "
      ]
     },
     "execution_count": 27,
     "metadata": {},
     "output_type": "execute_result"
    }
   ],
   "source": [
    "# showing summary statistics to look for any irregularities\n",
    "df.describe()"
   ]
  },
  {
   "cell_type": "markdown",
   "metadata": {},
   "source": [
    ">- The quarter of the patients are relatively young people with an age less than or equal to 18 years old. \n",
    "- It seems that 50% of the patients are less than or equal to 37 years old. 75% have an age which is less than or equal 55 years.\n",
    "- Minimum age is a negative number which means that some ages are in negative numbers.  \n",
    "- The maximum age is 115 but this would be normal for data from the hospital."
   ]
  },
  {
   "cell_type": "markdown",
   "metadata": {},
   "source": [
    "Based on the findings above, we will search for the odd ages that are in negative numbers and we will remove them from the dataset."
   ]
  },
  {
   "cell_type": "code",
   "execution_count": 28,
   "metadata": {},
   "outputs": [
    {
     "data": {
      "text/plain": [
       "1"
      ]
     },
     "execution_count": 28,
     "metadata": {},
     "output_type": "execute_result"
    }
   ],
   "source": [
    "# finding the number of patients with a negative age using query to get the count of patients registered with a negative age\n",
    "negative_age = df.query('age < 0').shape[0]\n",
    "negative_age"
   ]
  },
  {
   "cell_type": "markdown",
   "metadata": {},
   "source": [
    ">Only one patient have a negative age. Let's check it and delete it from the data."
   ]
  },
  {
   "cell_type": "code",
   "execution_count": 29,
   "metadata": {},
   "outputs": [
    {
     "data": {
      "text/html": [
       "<div>\n",
       "<style scoped>\n",
       "    .dataframe tbody tr th:only-of-type {\n",
       "        vertical-align: middle;\n",
       "    }\n",
       "\n",
       "    .dataframe tbody tr th {\n",
       "        vertical-align: top;\n",
       "    }\n",
       "\n",
       "    .dataframe thead th {\n",
       "        text-align: right;\n",
       "    }\n",
       "</style>\n",
       "<table border=\"1\" class=\"dataframe\">\n",
       "  <thead>\n",
       "    <tr style=\"text-align: right;\">\n",
       "      <th></th>\n",
       "      <th>patient_id</th>\n",
       "      <th>gender</th>\n",
       "      <th>scheduled_day</th>\n",
       "      <th>appointment_day</th>\n",
       "      <th>age</th>\n",
       "      <th>neighbourhood</th>\n",
       "      <th>scholarship</th>\n",
       "      <th>hypertension</th>\n",
       "      <th>diabetes</th>\n",
       "      <th>alcoholism</th>\n",
       "      <th>handicap</th>\n",
       "      <th>sms_received</th>\n",
       "      <th>show</th>\n",
       "    </tr>\n",
       "  </thead>\n",
       "  <tbody>\n",
       "    <tr>\n",
       "      <th>99832</th>\n",
       "      <td>465943158731293.0</td>\n",
       "      <td>F</td>\n",
       "      <td>2016-06-06</td>\n",
       "      <td>2016-06-06</td>\n",
       "      <td>-1</td>\n",
       "      <td>ROMÃO</td>\n",
       "      <td>0</td>\n",
       "      <td>0</td>\n",
       "      <td>0</td>\n",
       "      <td>0</td>\n",
       "      <td>0</td>\n",
       "      <td>0</td>\n",
       "      <td>1</td>\n",
       "    </tr>\n",
       "  </tbody>\n",
       "</table>\n",
       "</div>"
      ],
      "text/plain": [
       "              patient_id gender scheduled_day appointment_day  age  \\\n",
       "99832  465943158731293.0      F    2016-06-06      2016-06-06   -1   \n",
       "\n",
       "      neighbourhood  scholarship  hypertension  diabetes  alcoholism  \\\n",
       "99832         ROMÃO            0             0         0           0   \n",
       "\n",
       "       handicap  sms_received  show  \n",
       "99832         0             0     1  "
      ]
     },
     "execution_count": 29,
     "metadata": {},
     "output_type": "execute_result"
    }
   ],
   "source": [
    "# checking this patient\n",
    "df.query('age < 0')"
   ]
  },
  {
   "cell_type": "code",
   "execution_count": 30,
   "metadata": {},
   "outputs": [],
   "source": [
    "# droping this row\n",
    "df.drop(99832, inplace = True)"
   ]
  },
  {
   "cell_type": "code",
   "execution_count": 31,
   "metadata": {},
   "outputs": [
    {
     "data": {
      "text/html": [
       "<div>\n",
       "<style scoped>\n",
       "    .dataframe tbody tr th:only-of-type {\n",
       "        vertical-align: middle;\n",
       "    }\n",
       "\n",
       "    .dataframe tbody tr th {\n",
       "        vertical-align: top;\n",
       "    }\n",
       "\n",
       "    .dataframe thead th {\n",
       "        text-align: right;\n",
       "    }\n",
       "</style>\n",
       "<table border=\"1\" class=\"dataframe\">\n",
       "  <thead>\n",
       "    <tr style=\"text-align: right;\">\n",
       "      <th></th>\n",
       "      <th>patient_id</th>\n",
       "      <th>gender</th>\n",
       "      <th>scheduled_day</th>\n",
       "      <th>appointment_day</th>\n",
       "      <th>age</th>\n",
       "      <th>neighbourhood</th>\n",
       "      <th>scholarship</th>\n",
       "      <th>hypertension</th>\n",
       "      <th>diabetes</th>\n",
       "      <th>alcoholism</th>\n",
       "      <th>handicap</th>\n",
       "      <th>sms_received</th>\n",
       "      <th>show</th>\n",
       "    </tr>\n",
       "  </thead>\n",
       "  <tbody>\n",
       "  </tbody>\n",
       "</table>\n",
       "</div>"
      ],
      "text/plain": [
       "Empty DataFrame\n",
       "Columns: [patient_id, gender, scheduled_day, appointment_day, age, neighbourhood, scholarship, hypertension, diabetes, alcoholism, handicap, sms_received, show]\n",
       "Index: []"
      ]
     },
     "execution_count": 31,
     "metadata": {},
     "output_type": "execute_result"
    }
   ],
   "source": [
    "# verifying the row is dropped\n",
    "df[df['age'] < 0]"
   ]
  },
  {
   "cell_type": "markdown",
   "metadata": {},
   "source": [
    "The data was cleaned from rows containing negative age for patients."
   ]
  },
  {
   "cell_type": "markdown",
   "metadata": {},
   "source": [
    ">To answer the question of \"Does the waiting time (time between scheduling and the appointment) affect the showing up? Long vs short waiting time from the day of schedule?\" we will create a new column called \"waiting_days\" which represents the difference between the appointment day and the scheduling day."
   ]
  },
  {
   "cell_type": "code",
   "execution_count": 32,
   "metadata": {},
   "outputs": [],
   "source": [
    "# creating a column called \"waiting_days\"\n",
    "df[\"waiting_days\"] = df['appointment_day'] - df['scheduled_day']"
   ]
  },
  {
   "cell_type": "code",
   "execution_count": 33,
   "metadata": {},
   "outputs": [
    {
     "data": {
      "text/html": [
       "<div>\n",
       "<style scoped>\n",
       "    .dataframe tbody tr th:only-of-type {\n",
       "        vertical-align: middle;\n",
       "    }\n",
       "\n",
       "    .dataframe tbody tr th {\n",
       "        vertical-align: top;\n",
       "    }\n",
       "\n",
       "    .dataframe thead th {\n",
       "        text-align: right;\n",
       "    }\n",
       "</style>\n",
       "<table border=\"1\" class=\"dataframe\">\n",
       "  <thead>\n",
       "    <tr style=\"text-align: right;\">\n",
       "      <th></th>\n",
       "      <th>patient_id</th>\n",
       "      <th>gender</th>\n",
       "      <th>scheduled_day</th>\n",
       "      <th>appointment_day</th>\n",
       "      <th>age</th>\n",
       "      <th>neighbourhood</th>\n",
       "      <th>scholarship</th>\n",
       "      <th>hypertension</th>\n",
       "      <th>diabetes</th>\n",
       "      <th>alcoholism</th>\n",
       "      <th>handicap</th>\n",
       "      <th>sms_received</th>\n",
       "      <th>show</th>\n",
       "      <th>waiting_days</th>\n",
       "    </tr>\n",
       "  </thead>\n",
       "  <tbody>\n",
       "    <tr>\n",
       "      <th>0</th>\n",
       "      <td>29872499824296.0</td>\n",
       "      <td>F</td>\n",
       "      <td>2016-04-29</td>\n",
       "      <td>2016-04-29</td>\n",
       "      <td>62</td>\n",
       "      <td>JARDIM DA PENHA</td>\n",
       "      <td>0</td>\n",
       "      <td>1</td>\n",
       "      <td>0</td>\n",
       "      <td>0</td>\n",
       "      <td>0</td>\n",
       "      <td>0</td>\n",
       "      <td>1</td>\n",
       "      <td>0 days</td>\n",
       "    </tr>\n",
       "  </tbody>\n",
       "</table>\n",
       "</div>"
      ],
      "text/plain": [
       "         patient_id gender scheduled_day appointment_day  age  \\\n",
       "0  29872499824296.0      F    2016-04-29      2016-04-29   62   \n",
       "\n",
       "     neighbourhood  scholarship  hypertension  diabetes  alcoholism  handicap  \\\n",
       "0  JARDIM DA PENHA            0             1         0           0         0   \n",
       "\n",
       "   sms_received  show waiting_days  \n",
       "0             0     1       0 days  "
      ]
     },
     "execution_count": 33,
     "metadata": {},
     "output_type": "execute_result"
    }
   ],
   "source": [
    "# verifying the update\n",
    "df.head(1)"
   ]
  },
  {
   "cell_type": "code",
   "execution_count": 34,
   "metadata": {},
   "outputs": [],
   "source": [
    "# changing the type to string in order to perform a split\n",
    "df[\"waiting_days\"] = df[\"waiting_days\"].astype(str)"
   ]
  },
  {
   "cell_type": "code",
   "execution_count": 35,
   "metadata": {},
   "outputs": [],
   "source": [
    "# removing the word \"days\"\n",
    "df[\"waiting_days\"] = df[\"waiting_days\"].apply(lambda x: x.split(\" \")[0].strip())"
   ]
  },
  {
   "cell_type": "code",
   "execution_count": 36,
   "metadata": {},
   "outputs": [],
   "source": [
    "# changing the type to integer\n",
    "df[\"waiting_days\"] = df[\"waiting_days\"].astype(int)"
   ]
  },
  {
   "cell_type": "code",
   "execution_count": 37,
   "metadata": {},
   "outputs": [
    {
     "name": "stdout",
     "output_type": "stream",
     "text": [
      "int64\n"
     ]
    },
    {
     "data": {
      "text/html": [
       "<div>\n",
       "<style scoped>\n",
       "    .dataframe tbody tr th:only-of-type {\n",
       "        vertical-align: middle;\n",
       "    }\n",
       "\n",
       "    .dataframe tbody tr th {\n",
       "        vertical-align: top;\n",
       "    }\n",
       "\n",
       "    .dataframe thead th {\n",
       "        text-align: right;\n",
       "    }\n",
       "</style>\n",
       "<table border=\"1\" class=\"dataframe\">\n",
       "  <thead>\n",
       "    <tr style=\"text-align: right;\">\n",
       "      <th></th>\n",
       "      <th>patient_id</th>\n",
       "      <th>gender</th>\n",
       "      <th>scheduled_day</th>\n",
       "      <th>appointment_day</th>\n",
       "      <th>age</th>\n",
       "      <th>neighbourhood</th>\n",
       "      <th>scholarship</th>\n",
       "      <th>hypertension</th>\n",
       "      <th>diabetes</th>\n",
       "      <th>alcoholism</th>\n",
       "      <th>handicap</th>\n",
       "      <th>sms_received</th>\n",
       "      <th>show</th>\n",
       "      <th>waiting_days</th>\n",
       "    </tr>\n",
       "  </thead>\n",
       "  <tbody>\n",
       "    <tr>\n",
       "      <th>0</th>\n",
       "      <td>29872499824296.0</td>\n",
       "      <td>F</td>\n",
       "      <td>2016-04-29</td>\n",
       "      <td>2016-04-29</td>\n",
       "      <td>62</td>\n",
       "      <td>JARDIM DA PENHA</td>\n",
       "      <td>0</td>\n",
       "      <td>1</td>\n",
       "      <td>0</td>\n",
       "      <td>0</td>\n",
       "      <td>0</td>\n",
       "      <td>0</td>\n",
       "      <td>1</td>\n",
       "      <td>0</td>\n",
       "    </tr>\n",
       "    <tr>\n",
       "      <th>1</th>\n",
       "      <td>558997776694438.0</td>\n",
       "      <td>M</td>\n",
       "      <td>2016-04-29</td>\n",
       "      <td>2016-04-29</td>\n",
       "      <td>56</td>\n",
       "      <td>JARDIM DA PENHA</td>\n",
       "      <td>0</td>\n",
       "      <td>0</td>\n",
       "      <td>0</td>\n",
       "      <td>0</td>\n",
       "      <td>0</td>\n",
       "      <td>0</td>\n",
       "      <td>1</td>\n",
       "      <td>0</td>\n",
       "    </tr>\n",
       "    <tr>\n",
       "      <th>2</th>\n",
       "      <td>4262962299951.0</td>\n",
       "      <td>F</td>\n",
       "      <td>2016-04-29</td>\n",
       "      <td>2016-04-29</td>\n",
       "      <td>62</td>\n",
       "      <td>MATA DA PRAIA</td>\n",
       "      <td>0</td>\n",
       "      <td>0</td>\n",
       "      <td>0</td>\n",
       "      <td>0</td>\n",
       "      <td>0</td>\n",
       "      <td>0</td>\n",
       "      <td>1</td>\n",
       "      <td>0</td>\n",
       "    </tr>\n",
       "    <tr>\n",
       "      <th>3</th>\n",
       "      <td>867951213174.0</td>\n",
       "      <td>F</td>\n",
       "      <td>2016-04-29</td>\n",
       "      <td>2016-04-29</td>\n",
       "      <td>8</td>\n",
       "      <td>PONTAL DE CAMBURI</td>\n",
       "      <td>0</td>\n",
       "      <td>0</td>\n",
       "      <td>0</td>\n",
       "      <td>0</td>\n",
       "      <td>0</td>\n",
       "      <td>0</td>\n",
       "      <td>1</td>\n",
       "      <td>0</td>\n",
       "    </tr>\n",
       "    <tr>\n",
       "      <th>4</th>\n",
       "      <td>8841186448183.0</td>\n",
       "      <td>F</td>\n",
       "      <td>2016-04-29</td>\n",
       "      <td>2016-04-29</td>\n",
       "      <td>56</td>\n",
       "      <td>JARDIM DA PENHA</td>\n",
       "      <td>0</td>\n",
       "      <td>1</td>\n",
       "      <td>1</td>\n",
       "      <td>0</td>\n",
       "      <td>0</td>\n",
       "      <td>0</td>\n",
       "      <td>1</td>\n",
       "      <td>0</td>\n",
       "    </tr>\n",
       "    <tr>\n",
       "      <th>5</th>\n",
       "      <td>95985133231274.0</td>\n",
       "      <td>F</td>\n",
       "      <td>2016-04-27</td>\n",
       "      <td>2016-04-29</td>\n",
       "      <td>76</td>\n",
       "      <td>REPÚBLICA</td>\n",
       "      <td>0</td>\n",
       "      <td>1</td>\n",
       "      <td>0</td>\n",
       "      <td>0</td>\n",
       "      <td>0</td>\n",
       "      <td>0</td>\n",
       "      <td>1</td>\n",
       "      <td>2</td>\n",
       "    </tr>\n",
       "    <tr>\n",
       "      <th>6</th>\n",
       "      <td>733688164476661.0</td>\n",
       "      <td>F</td>\n",
       "      <td>2016-04-27</td>\n",
       "      <td>2016-04-29</td>\n",
       "      <td>23</td>\n",
       "      <td>GOIABEIRAS</td>\n",
       "      <td>0</td>\n",
       "      <td>0</td>\n",
       "      <td>0</td>\n",
       "      <td>0</td>\n",
       "      <td>0</td>\n",
       "      <td>0</td>\n",
       "      <td>0</td>\n",
       "      <td>2</td>\n",
       "    </tr>\n",
       "    <tr>\n",
       "      <th>7</th>\n",
       "      <td>3449833394123.0</td>\n",
       "      <td>F</td>\n",
       "      <td>2016-04-27</td>\n",
       "      <td>2016-04-29</td>\n",
       "      <td>39</td>\n",
       "      <td>GOIABEIRAS</td>\n",
       "      <td>0</td>\n",
       "      <td>0</td>\n",
       "      <td>0</td>\n",
       "      <td>0</td>\n",
       "      <td>0</td>\n",
       "      <td>0</td>\n",
       "      <td>0</td>\n",
       "      <td>2</td>\n",
       "    </tr>\n",
       "    <tr>\n",
       "      <th>8</th>\n",
       "      <td>56394729949972.0</td>\n",
       "      <td>F</td>\n",
       "      <td>2016-04-29</td>\n",
       "      <td>2016-04-29</td>\n",
       "      <td>21</td>\n",
       "      <td>ANDORINHAS</td>\n",
       "      <td>0</td>\n",
       "      <td>0</td>\n",
       "      <td>0</td>\n",
       "      <td>0</td>\n",
       "      <td>0</td>\n",
       "      <td>0</td>\n",
       "      <td>1</td>\n",
       "      <td>0</td>\n",
       "    </tr>\n",
       "    <tr>\n",
       "      <th>9</th>\n",
       "      <td>78124564369297.0</td>\n",
       "      <td>F</td>\n",
       "      <td>2016-04-27</td>\n",
       "      <td>2016-04-29</td>\n",
       "      <td>19</td>\n",
       "      <td>CONQUISTA</td>\n",
       "      <td>0</td>\n",
       "      <td>0</td>\n",
       "      <td>0</td>\n",
       "      <td>0</td>\n",
       "      <td>0</td>\n",
       "      <td>0</td>\n",
       "      <td>1</td>\n",
       "      <td>2</td>\n",
       "    </tr>\n",
       "  </tbody>\n",
       "</table>\n",
       "</div>"
      ],
      "text/plain": [
       "          patient_id gender scheduled_day appointment_day  age  \\\n",
       "0   29872499824296.0      F    2016-04-29      2016-04-29   62   \n",
       "1  558997776694438.0      M    2016-04-29      2016-04-29   56   \n",
       "2    4262962299951.0      F    2016-04-29      2016-04-29   62   \n",
       "3     867951213174.0      F    2016-04-29      2016-04-29    8   \n",
       "4    8841186448183.0      F    2016-04-29      2016-04-29   56   \n",
       "5   95985133231274.0      F    2016-04-27      2016-04-29   76   \n",
       "6  733688164476661.0      F    2016-04-27      2016-04-29   23   \n",
       "7    3449833394123.0      F    2016-04-27      2016-04-29   39   \n",
       "8   56394729949972.0      F    2016-04-29      2016-04-29   21   \n",
       "9   78124564369297.0      F    2016-04-27      2016-04-29   19   \n",
       "\n",
       "       neighbourhood  scholarship  hypertension  diabetes  alcoholism  \\\n",
       "0    JARDIM DA PENHA            0             1         0           0   \n",
       "1    JARDIM DA PENHA            0             0         0           0   \n",
       "2      MATA DA PRAIA            0             0         0           0   \n",
       "3  PONTAL DE CAMBURI            0             0         0           0   \n",
       "4    JARDIM DA PENHA            0             1         1           0   \n",
       "5          REPÚBLICA            0             1         0           0   \n",
       "6         GOIABEIRAS            0             0         0           0   \n",
       "7         GOIABEIRAS            0             0         0           0   \n",
       "8         ANDORINHAS            0             0         0           0   \n",
       "9          CONQUISTA            0             0         0           0   \n",
       "\n",
       "   handicap  sms_received  show  waiting_days  \n",
       "0         0             0     1             0  \n",
       "1         0             0     1             0  \n",
       "2         0             0     1             0  \n",
       "3         0             0     1             0  \n",
       "4         0             0     1             0  \n",
       "5         0             0     1             2  \n",
       "6         0             0     0             2  \n",
       "7         0             0     0             2  \n",
       "8         0             0     1             0  \n",
       "9         0             0     1             2  "
      ]
     },
     "execution_count": 37,
     "metadata": {},
     "output_type": "execute_result"
    }
   ],
   "source": [
    "# verifying the update done\n",
    "print(df['waiting_days'].dtypes)\n",
    "df.head(10)"
   ]
  },
  {
   "cell_type": "markdown",
   "metadata": {},
   "source": [
    ">A column to represent waiting days was created and cleaned to just include the number of days."
   ]
  },
  {
   "cell_type": "markdown",
   "metadata": {},
   "source": [
    "Exploring the new column \"waiting_days\" from a statistical approach."
   ]
  },
  {
   "cell_type": "code",
   "execution_count": 38,
   "metadata": {},
   "outputs": [
    {
     "data": {
      "text/plain": [
       "count    110526.000000\n",
       "mean         10.183794\n",
       "std          15.255034\n",
       "min          -6.000000\n",
       "25%           0.000000\n",
       "50%           4.000000\n",
       "75%          15.000000\n",
       "max         179.000000\n",
       "Name: waiting_days, dtype: float64"
      ]
     },
     "execution_count": 38,
     "metadata": {},
     "output_type": "execute_result"
    }
   ],
   "source": [
    "# showing summary statistics of this new column\n",
    "df.waiting_days.describe()"
   ]
  },
  {
   "cell_type": "markdown",
   "metadata": {},
   "source": [
    ">We found that there are negative waiting days which seems illogical. These rows will be dropped.  \n",
    "50% of the appointments have waiting days less than or equal to 4 which seems good. Also, 75% of appointments have less than 15 waiting days.  \n",
    "The maximum waiting days is 179 days, which is clearly a very long time."
   ]
  },
  {
   "cell_type": "markdown",
   "metadata": {},
   "source": [
    "We will get the rows with negative waiting days and delete them."
   ]
  },
  {
   "cell_type": "code",
   "execution_count": 39,
   "metadata": {},
   "outputs": [
    {
     "data": {
      "text/plain": [
       "5"
      ]
     },
     "execution_count": 39,
     "metadata": {},
     "output_type": "execute_result"
    }
   ],
   "source": [
    "# checking the number of rows with negative waiting days\n",
    "df.query('waiting_days < 0').gender.count()"
   ]
  },
  {
   "cell_type": "code",
   "execution_count": 40,
   "metadata": {},
   "outputs": [],
   "source": [
    "# droping these 5 rows\n",
    "df.drop(df.query('waiting_days < 0').index, inplace = True)"
   ]
  },
  {
   "cell_type": "code",
   "execution_count": 41,
   "metadata": {},
   "outputs": [
    {
     "data": {
      "text/html": [
       "<div>\n",
       "<style scoped>\n",
       "    .dataframe tbody tr th:only-of-type {\n",
       "        vertical-align: middle;\n",
       "    }\n",
       "\n",
       "    .dataframe tbody tr th {\n",
       "        vertical-align: top;\n",
       "    }\n",
       "\n",
       "    .dataframe thead th {\n",
       "        text-align: right;\n",
       "    }\n",
       "</style>\n",
       "<table border=\"1\" class=\"dataframe\">\n",
       "  <thead>\n",
       "    <tr style=\"text-align: right;\">\n",
       "      <th></th>\n",
       "      <th>patient_id</th>\n",
       "      <th>gender</th>\n",
       "      <th>scheduled_day</th>\n",
       "      <th>appointment_day</th>\n",
       "      <th>age</th>\n",
       "      <th>neighbourhood</th>\n",
       "      <th>scholarship</th>\n",
       "      <th>hypertension</th>\n",
       "      <th>diabetes</th>\n",
       "      <th>alcoholism</th>\n",
       "      <th>handicap</th>\n",
       "      <th>sms_received</th>\n",
       "      <th>show</th>\n",
       "      <th>waiting_days</th>\n",
       "    </tr>\n",
       "  </thead>\n",
       "  <tbody>\n",
       "  </tbody>\n",
       "</table>\n",
       "</div>"
      ],
      "text/plain": [
       "Empty DataFrame\n",
       "Columns: [patient_id, gender, scheduled_day, appointment_day, age, neighbourhood, scholarship, hypertension, diabetes, alcoholism, handicap, sms_received, show, waiting_days]\n",
       "Index: []"
      ]
     },
     "execution_count": 41,
     "metadata": {},
     "output_type": "execute_result"
    }
   ],
   "source": [
    "# checking that these rows were dopped\n",
    "df.query('waiting_days < 0')"
   ]
  },
  {
   "cell_type": "code",
   "execution_count": 42,
   "metadata": {},
   "outputs": [],
   "source": [
    "# saving this dataframe into a new one for the EDA\n",
    "df_cl = df"
   ]
  },
  {
   "cell_type": "markdown",
   "metadata": {},
   "source": [
    "### Conclusion based on Data Investigation\n",
    "List of findings and issues addressed\n",
    "- No null values were found.  \n",
    "- Column titles need to be adjusted spelling wise and on the level of text format.  \n",
    "- Appointment ID column can be dropped and it was dropped.  \n",
    "- ScheduledDay and AppointmentDay are strings and need to be changed to Datetime.  \n",
    "- Patient ID and Appointment ID should be changed to strings.  \n",
    "- There is one negative age that need to be dropped.  \n",
    "- No duplicate rows were found.  \n",
    "- It's better to change the type of No-show column to be integer to make it consistent with other flagging columns and also change its name to \"show\" and change the values to be \"No\" = 1 and \"Yes\" = 0.  \n",
    "- After creating a new column for waiting time in days, there were some negative waiting days."
   ]
  },
  {
   "cell_type": "markdown",
   "metadata": {},
   "source": [
    "\n",
    "### Data Cleaning\n",
    "As mentioned previously, here are the data cleaning that was done\n",
    "- Adjusting column titles. \n",
    "- Changing the type of \"scheduled_day\" and \"appointment_day\" to Datetime.  \n",
    "- Changing the type of \"patient_id\" and \"appointment_id\" to strings.  \n",
    "- Changing the title of \"No-show\" to \"show\" and adjusting the column value to be \"No\" = 1 and \"Yes\" = 0 to avoid confusion.\n",
    "- Changing the type of No-show column to integer.  \n",
    "- Droping the appointment ID column.  \n",
    "- Droping the row containing negative age. \n",
    "- Creating a new column \"waiting_days\" to record the number of days a patient has to wait in order to go to hospital. We then cleaned this column by dropping 5 negative values."
   ]
  },
  {
   "cell_type": "markdown",
   "metadata": {},
   "source": [
    "<a id='eda'></a>\n",
    "## Exploratory Data Analysis\n"
   ]
  },
  {
   "cell_type": "markdown",
   "metadata": {},
   "source": [
    "We will first explore the distributions of the data we have to get some insights about what to do next."
   ]
  },
  {
   "cell_type": "code",
   "execution_count": 43,
   "metadata": {},
   "outputs": [
    {
     "data": {
      "image/png": "[encoded data removed]",
      "text/plain": [
       "<matplotlib.figure.Figure at 0x7f5181918eb8>"
      ]
     },
     "metadata": {
      "needs_background": "light"
     },
     "output_type": "display_data"
    }
   ],
   "source": [
    "# exploring the distribution of each column\n",
    "df_cl.hist(figsize = (10,10));"
   ]
  },
  {
   "cell_type": "markdown",
   "metadata": {},
   "source": [
    "Here are some findings based on the histograms:\n",
    "- We can see that the age of patients is relatively low.  \n",
    "- Most of the patients are not alcoholic, diabete. A fair amount of patients have hypertensions compared to other diseases but generally speaking the proportion of patients with diseases is significantly low compared to the total. Hence, I won't use these factors in my investigation. \n",
    "- It is also obvious that most of the patients are not handicapped.  \n",
    "- Most of the people have the scolarship.  \n",
    "- The waiting days distribution is righ skewed which means that the mean is lower than the median and hence more than 50% of the waiting time is relatively normal waiting times."
   ]
  },
  {
   "cell_type": "code",
   "execution_count": 44,
   "metadata": {},
   "outputs": [],
   "source": [
    "# creating a function for bar graphs\n",
    "\n",
    "def display_bar(bar_names, var_to_plot, title, xlabel, ylabel):\n",
    "    \"\"\"\"\n",
    "    bar_names: a list of titles given to each bar of the graph\n",
    "    var_to_plot: a list of the corresponding variables to plot (counts for example)\n",
    "    title, xlable, ylabel: plot properties\n",
    "    \"\"\"\n",
    "\n",
    "    plt.figure(figsize = (8, 6))\n",
    "    plt.bar(bar_names, var_to_plot)\n",
    "    plt.legend()\n",
    "    plt.title(title)\n",
    "    plt.xlabel(xlabel)\n",
    "    plt.ylabel(ylabel)\n",
    "    return plt.show()"
   ]
  },
  {
   "cell_type": "markdown",
   "metadata": {},
   "source": [
    "### Research Question 1: Is there a more gender that is likely to show up over another?"
   ]
  },
  {
   "cell_type": "markdown",
   "metadata": {},
   "source": [
    "One of the factors that may affect showing up is the gender. There might be some relation between showing/no showing and a certain gender. But first, let's explore the attendance in general to get an insight about the attendance behaviour in general."
   ]
  },
  {
   "cell_type": "markdown",
   "metadata": {},
   "source": [
    "Getting the counts, percentages and then visualising people who showed up and people who didn't."
   ]
  },
  {
   "cell_type": "code",
   "execution_count": 45,
   "metadata": {},
   "outputs": [],
   "source": [
    "# creating show and no show variables to get the counts\n",
    "shw = df_cl[df_cl['show'] == 1].gender.count() # variable to count the total number of people who showed up\n",
    "n_shw = df_cl[df_cl['show'] == 0].gender.count() # variable to count the total number of people who didn't show up"
   ]
  },
  {
   "cell_type": "code",
   "execution_count": 46,
   "metadata": {},
   "outputs": [],
   "source": [
    "# getting the percentages\n",
    "shw_percent = (shw / df_cl.shape[0]) * 100\n",
    "no_show_percent = (n_shw / df_cl.shape[0]) * 100"
   ]
  },
  {
   "cell_type": "code",
   "execution_count": 47,
   "metadata": {},
   "outputs": [
    {
     "data": {
      "image/png": "[encoded data removed]",
      "text/plain": [
       "<matplotlib.figure.Figure at 0x7f5181234240>"
      ]
     },
     "metadata": {
      "needs_background": "light"
     },
     "output_type": "display_data"
    }
   ],
   "source": [
    "# creating the bar graph by calling the \"display_bar\" function.\n",
    "display_bar([\"Show people\", \"No show people\"], [shw, n_shw], 'Number of people who showed up vs no show', 'Showing up status', 'Counts')"
   ]
  },
  {
   "cell_type": "code",
   "execution_count": 48,
   "metadata": {},
   "outputs": [
    {
     "name": "stdout",
     "output_type": "stream",
     "text": [
      "Percentage of people who showed up compared to the total is 79.81017182254956\n"
     ]
    }
   ],
   "source": [
    "print(\"Percentage of people who showed up compared to the total is {}\".format(shw_percent))"
   ]
  },
  {
   "cell_type": "markdown",
   "metadata": {},
   "source": [
    "We can see from the graph that almost 80% of patients who scheduled an appointment showed up. This is a good percentage and will make it worthy to explore this beaviour with the gender."
   ]
  },
  {
   "cell_type": "markdown",
   "metadata": {},
   "source": [
    "To better visualise the attendance in general, I will use a pie chart."
   ]
  },
  {
   "cell_type": "code",
   "execution_count": 49,
   "metadata": {},
   "outputs": [
    {
     "data": {
      "image/png": "[encoded data removed]",
      "text/plain": [
       "<matplotlib.figure.Figure at 0x7f5181275630>"
      ]
     },
     "metadata": {},
     "output_type": "display_data"
    }
   ],
   "source": [
    "# exploring by a pie chart\n",
    "percentages = [shw_percent, no_show_percent]\n",
    "mylabels = ['Show', 'No show']\n",
    "plt.title('Number of people who showed up vs no show')\n",
    "plt.pie(percentages, labels = mylabels)\n",
    "plt.legend();\n"
   ]
  },
  {
   "cell_type": "markdown",
   "metadata": {},
   "source": [
    "Clearly, the number of people who showed up is higher than the number of people who didn't. Almost 80% of people showed up. Let's explore now by gender."
   ]
  },
  {
   "cell_type": "markdown",
   "metadata": {},
   "source": [
    "Here, I will get the counts, proportions, and then visualize patients' attendance per gender to see if there is an effect for the gender over the attendance."
   ]
  },
  {
   "cell_type": "code",
   "execution_count": 50,
   "metadata": {},
   "outputs": [
    {
     "data": {
      "text/plain": [
       "gender  show\n",
       "F       0       14591\n",
       "        1       57245\n",
       "M       0        7723\n",
       "        1       30962\n",
       "Name: patient_id, dtype: int64"
      ]
     },
     "execution_count": 50,
     "metadata": {},
     "output_type": "execute_result"
    }
   ],
   "source": [
    "# exploring the attendance by gender and showing up. Geting the counts first\n",
    "gender_count = df_cl.groupby(['gender','show']).count()['patient_id']\n",
    "gender_count"
   ]
  },
  {
   "cell_type": "code",
   "execution_count": 51,
   "metadata": {},
   "outputs": [
    {
     "data": {
      "text/plain": [
       "gender\n",
       "F    71836\n",
       "M    38685\n",
       "Name: patient_id, dtype: int64"
      ]
     },
     "execution_count": 51,
     "metadata": {},
     "output_type": "execute_result"
    }
   ],
   "source": [
    "# get total counts for each gender\n",
    "gender_totals = df_cl.groupby('gender').count()['patient_id']\n",
    "gender_totals"
   ]
  },
  {
   "cell_type": "code",
   "execution_count": 52,
   "metadata": {},
   "outputs": [
    {
     "data": {
      "text/plain": [
       "show\n",
       "0    0.199638\n",
       "1    0.800362\n",
       "Name: patient_id, dtype: float64"
      ]
     },
     "execution_count": 52,
     "metadata": {},
     "output_type": "execute_result"
    }
   ],
   "source": [
    "# getting male proportions\n",
    "male_proportions = gender_count['M'] / gender_totals['M']\n",
    "male_proportions"
   ]
  },
  {
   "cell_type": "code",
   "execution_count": 53,
   "metadata": {},
   "outputs": [
    {
     "data": {
      "text/plain": [
       "show\n",
       "0    0.203115\n",
       "1    0.796885\n",
       "Name: patient_id, dtype: float64"
      ]
     },
     "execution_count": 53,
     "metadata": {},
     "output_type": "execute_result"
    }
   ],
   "source": [
    "# getting female proportions\n",
    "female_proportions = gender_count['F'] / gender_totals['F']\n",
    "female_proportions"
   ]
  },
  {
   "cell_type": "markdown",
   "metadata": {},
   "source": [
    "We will visualise the relation between attendance and gender in a double bar graph. This type of graphs will help in comparing the male and female proportions in both statuses (shows vs no-shows)."
   ]
  },
  {
   "cell_type": "code",
   "execution_count": 54,
   "metadata": {},
   "outputs": [
    {
     "data": {
      "image/png": "[encoded data removed]",
      "text/plain": [
       "<matplotlib.figure.Figure at 0x7f5181513438>"
      ]
     },
     "metadata": {
      "needs_background": "light"
     },
     "output_type": "display_data"
    }
   ],
   "source": [
    "# plotting a double bar graph to compare\n",
    "ind = np.arange(len(male_proportions)) #the x locations for the group\n",
    "width = 0.35\n",
    "\n",
    "#plot bars\n",
    "plt.bar(ind, male_proportions, width, label = 'Male')\n",
    "plt.bar(ind + width, female_proportions, width, label = 'Female')\n",
    "  \n",
    "\n",
    "# title and labels\n",
    "plt.xlabel(\"Showing up status\")\n",
    "plt.ylabel(\"Proportions\")\n",
    "plt.title(\"Attendance proportions per gender\")\n",
    "locations = ind + width / 2  # xtick locations\n",
    "labels = ['No show people', 'Show people']  # xtick labels\n",
    "plt.xticks(locations, labels)\n",
    "\n",
    "# legend\n",
    "plt.legend();"
   ]
  },
  {
   "cell_type": "markdown",
   "metadata": {},
   "source": [
    "- This result confirms our findings above, that the attendance level is significantly higher than non attendance in general.   \n",
    "- By exploring the propotions of males and females' attendance, we can see that it's almost the same proportion of males or females that show up.  \n",
    "- Based on the graphs above, gender has no effect on showing up."
   ]
  },
  {
   "cell_type": "markdown",
   "metadata": {},
   "source": [
    "### Research Question 2: Does the waiting time (time between scheduling and the appointment) affect the showing up? Long vs short waiting time from the day of schedule?"
   ]
  },
  {
   "cell_type": "markdown",
   "metadata": {},
   "source": [
    "Intuitively, the more we have waiting days, the higher the probability of not going to the scheduled appointment.  \n",
    "We will try to explore this fact here and check, based on data, if the waiting time has an effect on showing up or not.  \n"
   ]
  },
  {
   "cell_type": "markdown",
   "metadata": {},
   "source": [
    "Let's create a new column to divide the waiting days into some equally sized intervals to facilitate the analysis."
   ]
  },
  {
   "cell_type": "code",
   "execution_count": 55,
   "metadata": {},
   "outputs": [],
   "source": [
    "# creating bins of waiting days each one with 10 days interval\n",
    "df_cl['days_bin'] = pd.cut(df_cl.waiting_days, 18, precision = -1, right = False)"
   ]
  },
  {
   "cell_type": "code",
   "execution_count": 56,
   "metadata": {},
   "outputs": [
    {
     "data": {
      "text/plain": [
       "days_bin        show\n",
       "[0.0, 10.0)     1       64010\n",
       "                0       10674\n",
       "[10.0, 20.0)    1        9482\n",
       "                0        4432\n",
       "[20.0, 30.0)    1        7245\n",
       "                0        3596\n",
       "[30.0, 40.0)    1        3771\n",
       "                0        1877\n",
       "[40.0, 50.0)    1        1387\n",
       "                0         737\n",
       "[50.0, 60.0)    1         771\n",
       "                0         371\n",
       "[60.0, 70.0)    1         837\n",
       "                0         336\n",
       "[70.0, 80.0)    1         367\n",
       "                0         170\n",
       "[80.0, 90.0)    1         132\n",
       "                0          51\n",
       "[90.0, 100.0)   1         108\n",
       "                0          29\n",
       "[100.0, 110.0)  1          24\n",
       "                0          10\n",
       "[110.0, 120.0)  1          17\n",
       "                0           2\n",
       "[120.0, 130.0)  1           6\n",
       "                0           1\n",
       "[130.0, 140.0)  1           7\n",
       "                0           6\n",
       "[140.0, 150.0)  1           5\n",
       "                0           4\n",
       "[150.0, 160.0)  0           7\n",
       "                1           4\n",
       "[160.0, 170.0)  1          16\n",
       "                0           3\n",
       "[170.0, 180.0)  1          18\n",
       "                0           8\n",
       "Name: show, dtype: int64"
      ]
     },
     "execution_count": 56,
     "metadata": {},
     "output_type": "execute_result"
    }
   ],
   "source": [
    "# exploring the counts per each bin with a showing up status or not\n",
    "df_cl.groupby('days_bin').show.value_counts()"
   ]
  },
  {
   "cell_type": "markdown",
   "metadata": {},
   "source": [
    "Before getting a final conclusion to answer the question in this section, we will explore first the show up only vs waiting days. Also, we will explore the no show up only vs waiting days. This will help in getting some insights and identifying any patterns before combining both types (show and no show) in a single visualisation."
   ]
  },
  {
   "cell_type": "markdown",
   "metadata": {},
   "source": [
    "Starting with patients who showed up vs waiting days. We will get the percentages and then plot a bar graph to visualise the situation."
   ]
  },
  {
   "cell_type": "code",
   "execution_count": 57,
   "metadata": {},
   "outputs": [],
   "source": [
    "# getting the percentages of people who showed up per each bin\n",
    "bins_show = df_cl.query('show == 1').groupby('days_bin').show.count()\n",
    "bins_show = bins_show/df_cl.shape[0]"
   ]
  },
  {
   "cell_type": "code",
   "execution_count": 58,
   "metadata": {},
   "outputs": [
    {
     "data": {
      "image/png": "[encoded data removed]",
      "text/plain": [
       "<matplotlib.figure.Figure at 0x7f51812dba90>"
      ]
     },
     "metadata": {
      "needs_background": "light"
     },
     "output_type": "display_data"
    }
   ],
   "source": [
    "# plotting a bar graph for the percentages of people who showed up vs the number of waiting days\n",
    "plt.figure(figsize = (8, 8))\n",
    "bins_show.plot(kind = 'bar')\n",
    "plt.title('Showing up by waiting days')\n",
    "plt.xlabel('Waiting days')\n",
    "plt.ylabel('Percentage of people who showed up');"
   ]
  },
  {
   "cell_type": "markdown",
   "metadata": {},
   "source": [
    "First impression to see, is that the number of patients who show up to their appointment is higher when the waiting days are between 0 to 10 days. A little bit over 55% of the total patients fulfills this criteria. Clearly, we can see that wating days is a factor affecting showing up."
   ]
  },
  {
   "cell_type": "markdown",
   "metadata": {},
   "source": [
    "Now, we will move the no-shows patients, get their pecentages and display this vs waiting days."
   ]
  },
  {
   "cell_type": "code",
   "execution_count": 59,
   "metadata": {},
   "outputs": [],
   "source": [
    "# getting the percentages of people who didn't show up per each bin\n",
    "bins_no_show = df_cl.query('show == 0').groupby('days_bin').show.count()\n",
    "bins_no_show = bins_no_show/df_cl.shape[0]"
   ]
  },
  {
   "cell_type": "code",
   "execution_count": 60,
   "metadata": {},
   "outputs": [
    {
     "data": {
      "image/png": "[encoded data removed]",
      "text/plain": [
       "<matplotlib.figure.Figure at 0x7f51812759b0>"
      ]
     },
     "metadata": {
      "needs_background": "light"
     },
     "output_type": "display_data"
    }
   ],
   "source": [
    "# plotting a bar graph for the percentages of people who didn't show up vs the number of waiting days\n",
    "plt.figure(figsize = (8, 8))\n",
    "bins_no_show.plot(kind = 'bar')\n",
    "plt.title('No showing up by waiting days')\n",
    "plt.xlabel('Waiting days')\n",
    "plt.ylabel(\"Percentage of people who didn't show up\");"
   ]
  },
  {
   "cell_type": "markdown",
   "metadata": {},
   "source": [
    "Although this is a bit weird and wasn't expected; that the number of patients not showing up is higher with lower waiting days, the percentage of patients is lower than 10% of the total patients. A better explanation would be found when combining both findings into a single graph"
   ]
  },
  {
   "cell_type": "markdown",
   "metadata": {},
   "source": [
    "Combining the two relations of the attendance with the waiting days. Here, we will explore with the counts vs waiting days by creating a double bar graph."
   ]
  },
  {
   "cell_type": "code",
   "execution_count": 61,
   "metadata": {},
   "outputs": [
    {
     "data": {
      "image/png": "[encoded data removed]",
      "text/plain": [
       "<matplotlib.figure.Figure at 0x7f518121bc50>"
      ]
     },
     "metadata": {
      "needs_background": "light"
     },
     "output_type": "display_data"
    }
   ],
   "source": [
    "# creating a bar graph combining the two relations of the attendance with the waiting days.\n",
    "df_cl.groupby('days_bin').show.value_counts().unstack().plot(kind = 'bar', figsize = (8, 8))\n",
    "plt.title('Attendance vs waiting days')\n",
    "plt.xlabel('Waiting Days')\n",
    "plt.ylabel('Frequency')\n",
    "plt.legend(['No show', 'Show']);"
   ]
  },
  {
   "cell_type": "markdown",
   "metadata": {},
   "source": [
    "Clearly we can see that the more the waiting days are low, the more we have people showing up. What's unusual is that the more the waiting days increase, the more the no show up people decrease which seems illogical. However, this is lower number compared to the total people showing up.  \n",
    "To conclude, as we thought intuitively, waiting days affect showing up to the appointment.\n",
    " "
   ]
  },
  {
   "cell_type": "markdown",
   "metadata": {},
   "source": [
    "### Research question 3: Does receiving an SMS affects showing up to the appointment?\n",
    "\n",
    ">Here we will check whether receiving an SMS was a factor for attendance by answering two questions.\n",
    "- Out of people who showed up, who got an SMS?\n",
    "- Out of people who got an SMS, who showed up? "
   ]
  },
  {
   "cell_type": "markdown",
   "metadata": {},
   "source": [
    "We will answer here the first question by exploring the who showed up and got an sms, getting their proportions, and then plotting a bar graph."
   ]
  },
  {
   "cell_type": "code",
   "execution_count": 62,
   "metadata": {},
   "outputs": [
    {
     "data": {
      "text/plain": [
       "show  sms_received\n",
       "0     0               12530\n",
       "      1                9784\n",
       "1     0               62509\n",
       "      1               25698\n",
       "Name: patient_id, dtype: int64"
      ]
     },
     "execution_count": 62,
     "metadata": {},
     "output_type": "execute_result"
    }
   ],
   "source": [
    "# exploring the attendance grouped by showing up and sms_received\n",
    "attendance_counts = df_cl.groupby(['show', 'sms_received']).count()['patient_id']\n",
    "attendance_counts"
   ]
  },
  {
   "cell_type": "code",
   "execution_count": 63,
   "metadata": {},
   "outputs": [
    {
     "data": {
      "text/plain": [
       "88207"
      ]
     },
     "execution_count": 63,
     "metadata": {},
     "output_type": "execute_result"
    }
   ],
   "source": [
    "# getting the counts of people who showed up\n",
    "show_totals = df_cl.groupby('show').count()['patient_id'][1]\n",
    "show_totals"
   ]
  },
  {
   "cell_type": "code",
   "execution_count": 64,
   "metadata": {},
   "outputs": [
    {
     "data": {
      "text/plain": [
       "0.29133742220005215"
      ]
     },
     "execution_count": 64,
     "metadata": {},
     "output_type": "execute_result"
    }
   ],
   "source": [
    "# getting sms_received proportions of people who showed up\n",
    "sms_receive_proportions = attendance_counts[1][1] / show_totals\n",
    "sms_receive_proportions"
   ]
  },
  {
   "cell_type": "code",
   "execution_count": 65,
   "metadata": {},
   "outputs": [
    {
     "data": {
      "text/plain": [
       "0.7086625777999479"
      ]
     },
     "execution_count": 65,
     "metadata": {},
     "output_type": "execute_result"
    }
   ],
   "source": [
    "# getting sms not received proportions of people who showed up\n",
    "sms_noreceive_proportions = attendance_counts[1][0] / show_totals\n",
    "sms_noreceive_proportions"
   ]
  },
  {
   "cell_type": "code",
   "execution_count": 66,
   "metadata": {},
   "outputs": [
    {
     "data": {
      "image/png": "[encoded data removed]",
      "text/plain": [
       "<matplotlib.figure.Figure at 0x7f51819065f8>"
      ]
     },
     "metadata": {
      "needs_background": "light"
     },
     "output_type": "display_data"
    }
   ],
   "source": [
    "# calling the function to plot bar graph\n",
    "display_bar(['SMS', 'No SMS'], [sms_receive_proportions, sms_noreceive_proportions], 'Proportions of receiving SMS out of people who showed up', 'SMS status', 'Proportions')"
   ]
  },
  {
   "cell_type": "markdown",
   "metadata": {},
   "source": [
    "This was not expected at all, out of all people who showed up, the proportion of people who got an SMS (30%) is significantly lower than people who didn't get an SMS disregarding the gender. The first question doesn't give us an insight that an SMS is important for showing up."
   ]
  },
  {
   "cell_type": "markdown",
   "metadata": {},
   "source": [
    "Let's answer the second question \"Out of people who got an SMS, who showed up?\""
   ]
  },
  {
   "cell_type": "code",
   "execution_count": 67,
   "metadata": {},
   "outputs": [
    {
     "data": {
      "text/plain": [
       "35482"
      ]
     },
     "execution_count": 67,
     "metadata": {},
     "output_type": "execute_result"
    }
   ],
   "source": [
    "# getting the counts of people who received and SMS\n",
    "sms_totals = df_cl.groupby('sms_received').count()['patient_id'][1]\n",
    "sms_totals"
   ]
  },
  {
   "cell_type": "code",
   "execution_count": 68,
   "metadata": {},
   "outputs": [
    {
     "data": {
      "text/plain": [
       "0.7242545516036301"
      ]
     },
     "execution_count": 68,
     "metadata": {},
     "output_type": "execute_result"
    }
   ],
   "source": [
    "# getting show up proportion out of people who received an SMS\n",
    "showup_proportions = attendance_counts[1][1] / sms_totals\n",
    "showup_proportions"
   ]
  },
  {
   "cell_type": "code",
   "execution_count": 69,
   "metadata": {},
   "outputs": [
    {
     "data": {
      "text/plain": [
       "0.27574544839637"
      ]
     },
     "execution_count": 69,
     "metadata": {},
     "output_type": "execute_result"
    }
   ],
   "source": [
    "# getting no show up proportion out of people who received an SMS\n",
    "noshowup_proportions = attendance_counts[0][1] / sms_totals\n",
    "noshowup_proportions"
   ]
  },
  {
   "cell_type": "code",
   "execution_count": 70,
   "metadata": {},
   "outputs": [
    {
     "data": {
      "image/png": "[encoded data removed]",
      "text/plain": [
       "<matplotlib.figure.Figure at 0x7f51819064a8>"
      ]
     },
     "metadata": {
      "needs_background": "light"
     },
     "output_type": "display_data"
    }
   ],
   "source": [
    "# calling the function to plot bar graph\n",
    "display_bar(['Show up', 'No Show up'], [showup_proportions, noshowup_proportions], 'Proportions of showing up out of people who received and SMS', 'Show up status', 'Proportions')"
   ]
  },
  {
   "cell_type": "markdown",
   "metadata": {},
   "source": [
    "On the level of receiving an SMS, clearly, most of the people who received an SMS showed up to the appointment but this is misleading because the amount of people who got an SMS is significantly low (only about 35k)."
   ]
  },
  {
   "cell_type": "markdown",
   "metadata": {},
   "source": [
    "As a conclusion, we can't say that receiving an SMS was a factor affecting showing up."
   ]
  },
  {
   "cell_type": "markdown",
   "metadata": {},
   "source": [
    "### Research question 4: Does age affect showing up?\n",
    "\n",
    ">Here we will check whether the age of the patients affects showing up or not as the age might be an important factor in the attendance."
   ]
  },
  {
   "cell_type": "markdown",
   "metadata": {},
   "source": [
    "Let's create a new column to divide the age of the patients into some equally sized intervals or age groups to facilitate the analysis."
   ]
  },
  {
   "cell_type": "code",
   "execution_count": 71,
   "metadata": {},
   "outputs": [],
   "source": [
    "# creating age groups each one with 10 years interval\n",
    "df_cl['age_bin'] = pd.cut(df_cl.age, 12, precision = -1, right = False)"
   ]
  },
  {
   "cell_type": "code",
   "execution_count": 72,
   "metadata": {},
   "outputs": [
    {
     "data": {
      "text/plain": [
       "age_bin         show\n",
       "[0.0, 10.0)     1       13991\n",
       "                0        3483\n",
       "[10.0, 20.0)    1        9679\n",
       "                0        3256\n",
       "[20.0, 30.0)    1        9246\n",
       "                0        3049\n",
       "[30.0, 40.0)    1       11748\n",
       "                0        3289\n",
       "[40.0, 50.0)    1       10043\n",
       "                0        2651\n",
       "[50.0, 60.0)    1       12996\n",
       "                0        2825\n",
       "[60.0, 70.0)    1       11102\n",
       "                0        2023\n",
       "[70.0, 80.0)    1        5360\n",
       "                0         960\n",
       "[80.0, 90.0)    1        3295\n",
       "                0         625\n",
       "[90.0, 100.0)   1         708\n",
       "                0         146\n",
       "[100.0, 110.0)  1          37\n",
       "                0           4\n",
       "[110.0, 120.0)  0           3\n",
       "                1           2\n",
       "Name: show, dtype: int64"
      ]
     },
     "execution_count": 72,
     "metadata": {},
     "output_type": "execute_result"
    }
   ],
   "source": [
    "# exploring the counts per each bin with a showing up status or not\n",
    "df_cl.groupby('age_bin').show.value_counts()"
   ]
  },
  {
   "cell_type": "markdown",
   "metadata": {},
   "source": [
    "Before getting a final conclusion to answer the question in this section, we will explore first the show up only vs age. Also, we will explore the no show up only vs age. This will help in getting some insights and identifying any patterns before combining both types (show and no show) in a single visualisation."
   ]
  },
  {
   "cell_type": "markdown",
   "metadata": {},
   "source": [
    "Starting with patients who showed up vs age. We will get the counts and then plot a bar graph to visualise the situation."
   ]
  },
  {
   "cell_type": "code",
   "execution_count": 73,
   "metadata": {},
   "outputs": [
    {
     "data": {
      "text/plain": [
       "age_bin\n",
       "[0.0, 10.0)       13991\n",
       "[10.0, 20.0)       9679\n",
       "[20.0, 30.0)       9246\n",
       "[30.0, 40.0)      11748\n",
       "[40.0, 50.0)      10043\n",
       "[50.0, 60.0)      12996\n",
       "[60.0, 70.0)      11102\n",
       "[70.0, 80.0)       5360\n",
       "[80.0, 90.0)       3295\n",
       "[90.0, 100.0)       708\n",
       "[100.0, 110.0)       37\n",
       "[110.0, 120.0)        2\n",
       "Name: show, dtype: int64"
      ]
     },
     "execution_count": 73,
     "metadata": {},
     "output_type": "execute_result"
    }
   ],
   "source": [
    "# getting the counts of people who showed up per each age group\n",
    "age_show = df_cl.query('show == 1').groupby('age_bin').show.count()\n",
    "age_show"
   ]
  },
  {
   "cell_type": "code",
   "execution_count": 74,
   "metadata": {},
   "outputs": [
    {
     "data": {
      "image/png": "[encoded data removed]",
      "text/plain": [
       "<matplotlib.figure.Figure at 0x7f51813318d0>"
      ]
     },
     "metadata": {
      "needs_background": "light"
     },
     "output_type": "display_data"
    }
   ],
   "source": [
    "# plotting a bar graph for people who showed up vs the age\n",
    "plt.figure(figsize = (8, 8))\n",
    "age_show.plot(kind = 'bar')\n",
    "plt.title('Showing up by age')\n",
    "plt.xlabel('Age Groups')\n",
    "plt.ylabel('Count of people who showed up');"
   ]
  },
  {
   "cell_type": "markdown",
   "metadata": {},
   "source": [
    "We can see that the highest amount of patients showing up are patients with age between 0 and 10 years, so maybe kids are more potentially to show up compared to adults but we can't confirm this because it's just 14k compared to the total. "
   ]
  },
  {
   "cell_type": "markdown",
   "metadata": {},
   "source": [
    "Now, we will move the no-shows patients, get their counts and display this vs age."
   ]
  },
  {
   "cell_type": "code",
   "execution_count": 75,
   "metadata": {},
   "outputs": [
    {
     "data": {
      "text/plain": [
       "age_bin\n",
       "[0.0, 10.0)       3483\n",
       "[10.0, 20.0)      3256\n",
       "[20.0, 30.0)      3049\n",
       "[30.0, 40.0)      3289\n",
       "[40.0, 50.0)      2651\n",
       "[50.0, 60.0)      2825\n",
       "[60.0, 70.0)      2023\n",
       "[70.0, 80.0)       960\n",
       "[80.0, 90.0)       625\n",
       "[90.0, 100.0)      146\n",
       "[100.0, 110.0)       4\n",
       "[110.0, 120.0)       3\n",
       "Name: show, dtype: int64"
      ]
     },
     "execution_count": 75,
     "metadata": {},
     "output_type": "execute_result"
    }
   ],
   "source": [
    "# getting the counts of people who didn't show up per each bin\n",
    "age_no_show = df_cl.query('show == 0').groupby('age_bin').show.count()\n",
    "age_no_show"
   ]
  },
  {
   "cell_type": "code",
   "execution_count": 76,
   "metadata": {},
   "outputs": [
    {
     "data": {
      "image/png": "[encoded data removed]",
      "text/plain": [
       "<matplotlib.figure.Figure at 0x7f51812532b0>"
      ]
     },
     "metadata": {
      "needs_background": "light"
     },
     "output_type": "display_data"
    }
   ],
   "source": [
    "# plotting a bar graph for people who didn't show up vs the number of waiting days\n",
    "plt.figure(figsize = (8, 8))\n",
    "age_no_show.plot(kind = 'bar')\n",
    "plt.title('No showing up by age')\n",
    "plt.xlabel('Age Groups')\n",
    "plt.ylabel(\"Count of people who didn't show up\");"
   ]
  },
  {
   "cell_type": "markdown",
   "metadata": {},
   "source": [
    "We can also see here that the highest no show amount is in the age group of 0 to 10 years, so no conclusions can be made that kids are more potentially to attend is a fact based on data. "
   ]
  },
  {
   "cell_type": "code",
   "execution_count": 77,
   "metadata": {},
   "outputs": [
    {
     "data": {
      "image/png": "[encoded data removed]",
      "text/plain": [
       "<matplotlib.figure.Figure at 0x7f51812b6da0>"
      ]
     },
     "metadata": {
      "needs_background": "light"
     },
     "output_type": "display_data"
    }
   ],
   "source": [
    "# creating a bar graph combining the two relations of the attendance with the age.\n",
    "df_cl.groupby('age_bin').show.value_counts().unstack().plot(kind = 'bar', figsize = (8, 8))\n",
    "plt.title('Attendance vs Age')\n",
    "plt.xlabel('Age Groups')\n",
    "plt.ylabel('Frequency')\n",
    "plt.legend(['No show', 'Show']);"
   ]
  },
  {
   "cell_type": "markdown",
   "metadata": {},
   "source": [
    "We can see that the showing up status is high when the age is low but it fluctuates for other age groups. From 0 to 10 years is the age group with the highest show up and no-shows. For all age groups, showing up is always higher than non showing up. However, there is no particular pattern we can deduce from this analysis. Based on the data, age is not considered as a factor for showing up to the appointment."
   ]
  },
  {
   "cell_type": "markdown",
   "metadata": {},
   "source": [
    "<a id='conclusions'></a>\n",
    "## Conclusions\n",
    "\n",
    "In this analysis, I was trying to investigate the patients' showing up for their scheduled appointments.  \n",
    "1.First, I explored the gender effect on attendance however, based on the findings, gender had no effect on showing up.  \n",
    "\n",
    "2.Then, I tried to check whether waiting days affect the attendance and it showed up that the more the waiting days are low, the more we have people showing up which seems logical. However, what was unusual is that with waiting days increasing, the no show people were still decreasing.  \n",
    "\n",
    "3.Third thing that was checked was receiving an SMS. Findings in this part were as follows:\n",
    "- Out of all people who showed up, the proportion of people who got an SMS is significantly lower than people who didn't get an SMS disregarding the gender.\n",
    "- On the level of receiving an SMS, clearly, most of the people who received an SMS showed up to the appointment but this is misleading because the amount of people who got an SMS is significantly low.\n",
    "\n",
    "4.Last thing that was checked, the age effect on showing up. We could find that showing up status is high when the age is low however, there was no particular pattern we could deduce from the findings.  \n",
    "\n",
    "More analysis could be done on the neighbourhood, or the type of diseases. We can also futher explore the data by checking whether there more attendace in the weekend or weekdays, whether there is a certain month of the year that has more attendance than another one.\n",
    "\n",
    "\n",
    "### Limitations\n",
    "One major limitation in this dataset was the \"Handcap\" column. This column wasn't describing what exactly it represents. In the data description, it was pointing out that it's a True/False column, however, it contained values that were above 1. After further investigation, it turns out that it represents the level of disability.\n",
    "\n",
    "Another limitation is the SMS_received column which indicated that it contains the number of messages sent to the patient wheras it contained whether the patient received an SMS or not.\n"
   ]
  },
  {
   "cell_type": "code",
   "execution_count": 78,
   "metadata": {},
   "outputs": [
    {
     "data": {
      "text/plain": [
       "0"
      ]
     },
     "execution_count": 78,
     "metadata": {},
     "output_type": "execute_result"
    }
   ],
   "source": [
    "from subprocess import call\n",
    "call(['python', '-m', 'nbconvert', 'Investigate_a_Dataset.ipynb'])"
   ]
  }
 ],
 "metadata": {
  "kernelspec": {
   "display_name": "Python 3",
   "language": "python",
   "name": "python3"
  },
  "language_info": {
   "codemirror_mode": {
    "name": "ipython",
    "version": 3
   },
   "file_extension": ".py",
   "mimetype": "text/x-python",
   "name": "python",
   "nbconvert_exporter": "python",
   "pygments_lexer": "ipython3",
   "version": "3.6.3"
  }
 },
 "nbformat": 4,
 "nbformat_minor": 2
}
